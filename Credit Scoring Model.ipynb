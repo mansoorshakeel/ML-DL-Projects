{
  "nbformat": 4,
  "nbformat_minor": 0,
  "metadata": {
    "colab": {
      "provenance": [],
      "authorship_tag": "ABX9TyOMl0oai2+KOStBI8DTg+Ev",
      "include_colab_link": true
    },
    "kernelspec": {
      "name": "python3",
      "display_name": "Python 3"
    },
    "language_info": {
      "name": "python"
    }
  },
  "cells": [
    {
      "cell_type": "markdown",
      "metadata": {
        "id": "view-in-github",
        "colab_type": "text"
      },
      "source": [
        "<a href=\"https://colab.research.google.com/github/mansoorshakeel0-stack/Project/blob/main/Credit%20Scoring%20Model.ipynb\" target=\"_parent\"><img src=\"https://colab.research.google.com/assets/colab-badge.svg\" alt=\"Open In Colab\"/></a>"
      ]
    },
    {
      "cell_type": "code",
      "execution_count": 1,
      "metadata": {
        "id": "rbbaES__jKSu"
      },
      "outputs": [],
      "source": [
        "import pandas as pd\n",
        "import numpy as np\n",
        "from sklearn.model_selection import train_test_split\n",
        "from sklearn.preprocessing import StandardScaler\n",
        "from sklearn.linear_model import LogisticRegression\n",
        "from sklearn.tree import DecisionTreeClassifier\n",
        "from sklearn.ensemble import RandomForestClassifier\n",
        "from sklearn.metrics import classification_report, roc_auc_score\n"
      ]
    },
    {
      "cell_type": "code",
      "source": [
        "np.random.seed(42)\n",
        "n = 1000\n",
        "\n",
        "data = pd.DataFrame({\n",
        "    'income': np.random.normal(50000, 15000, n),\n",
        "    'debt': np.random.normal(15000, 8000, n),\n",
        "    'age': np.random.randint(21, 65, n),\n",
        "    'num_late_payments': np.random.poisson(2, n),\n",
        "    'loan_amount': np.random.normal(10000, 5000, n),\n",
        "})\n"
      ],
      "metadata": {
        "id": "liI-Su3MjZIa"
      },
      "execution_count": 2,
      "outputs": []
    },
    {
      "cell_type": "code",
      "source": [
        "data['creditworthy'] = (\n",
        "    (data['income'] > 40000) &\n",
        "    (data['debt'] < 20000) &\n",
        "    (data['num_late_payments'] < 4)\n",
        ").astype(int)\n"
      ],
      "metadata": {
        "id": "6qm5_RF-jhNo"
      },
      "execution_count": 3,
      "outputs": []
    },
    {
      "cell_type": "code",
      "source": [
        "data['debt_to_income'] = data['debt'] / data['income']\n",
        "data['loan_to_income'] = data['loan_amount'] / data['income']"
      ],
      "metadata": {
        "id": "6uhVoHa-jnI9"
      },
      "execution_count": 4,
      "outputs": []
    },
    {
      "cell_type": "code",
      "source": [
        "X = data[['income', 'debt', 'age', 'num_late_payments', 'loan_amount',\n",
        "          'debt_to_income', 'loan_to_income']]\n",
        "y = data['creditworthy']"
      ],
      "metadata": {
        "id": "B6LaJx4xjqi2"
      },
      "execution_count": 5,
      "outputs": []
    },
    {
      "cell_type": "code",
      "source": [
        "X_train, X_test, y_train, y_test = train_test_split(X, y, test_size=0.3, random_state=42)\n"
      ],
      "metadata": {
        "id": "PZ6sNPknjwVd"
      },
      "execution_count": 6,
      "outputs": []
    },
    {
      "cell_type": "code",
      "source": [
        "scaler = StandardScaler()\n",
        "X_train_scaled = scaler.fit_transform(X_train)\n",
        "X_test_scaled = scaler.transform(X_test)\n"
      ],
      "metadata": {
        "id": "KCUpt090jz5r"
      },
      "execution_count": 7,
      "outputs": []
    },
    {
      "cell_type": "code",
      "source": [
        "models = {\n",
        "    \"Logistic Regression\": LogisticRegression(),\n",
        "    \"Decision Tree\": DecisionTreeClassifier(random_state=42),\n",
        "    \"Random Forest\": RandomForestClassifier(random_state=42)\n",
        "}\n"
      ],
      "metadata": {
        "id": "IUedv16Fj3nh"
      },
      "execution_count": 8,
      "outputs": []
    },
    {
      "cell_type": "code",
      "source": [
        "for name, model in models.items():\n",
        "    model.fit(X_train_scaled, y_train)\n",
        "    y_pred = model.predict(X_test_scaled)\n",
        "    y_prob = model.predict_proba(X_test_scaled)[:, 1]\n",
        "\n",
        "    print(f\"\\n=== {name} ===\")\n",
        "    print(classification_report(y_test, y_pred))\n",
        "    print(f\"ROC-AUC Score: {roc_auc_score(y_test, y_prob):.3f}\")\n"
      ],
      "metadata": {
        "colab": {
          "base_uri": "https://localhost:8080/"
        },
        "id": "byzHcl4mj_aq",
        "outputId": "f28b64fc-a117-4d77-f605-e0671d2860d1"
      },
      "execution_count": 9,
      "outputs": [
        {
          "output_type": "stream",
          "name": "stdout",
          "text": [
            "\n",
            "=== Logistic Regression ===\n",
            "              precision    recall  f1-score   support\n",
            "\n",
            "           0       0.81      0.83      0.82       149\n",
            "           1       0.83      0.81      0.82       151\n",
            "\n",
            "    accuracy                           0.82       300\n",
            "   macro avg       0.82      0.82      0.82       300\n",
            "weighted avg       0.82      0.82      0.82       300\n",
            "\n",
            "ROC-AUC Score: 0.911\n",
            "\n",
            "=== Decision Tree ===\n",
            "              precision    recall  f1-score   support\n",
            "\n",
            "           0       1.00      1.00      1.00       149\n",
            "           1       1.00      1.00      1.00       151\n",
            "\n",
            "    accuracy                           1.00       300\n",
            "   macro avg       1.00      1.00      1.00       300\n",
            "weighted avg       1.00      1.00      1.00       300\n",
            "\n",
            "ROC-AUC Score: 1.000\n",
            "\n",
            "=== Random Forest ===\n",
            "              precision    recall  f1-score   support\n",
            "\n",
            "           0       0.99      1.00      1.00       149\n",
            "           1       1.00      0.99      1.00       151\n",
            "\n",
            "    accuracy                           1.00       300\n",
            "   macro avg       1.00      1.00      1.00       300\n",
            "weighted avg       1.00      1.00      1.00       300\n",
            "\n",
            "ROC-AUC Score: 1.000\n"
          ]
        }
      ]
    },
    {
      "cell_type": "code",
      "source": [
        "results = []\n",
        "for name, model in models.items():\n",
        "    y_pred = model.predict(X_test_scaled)\n",
        "    y_prob = model.predict_proba(X_test_scaled)[:, 1]\n",
        "    results.append({\n",
        "        \"Model\": name,\n",
        "        \"ROC-AUC\": roc_auc_score(y_test, y_prob),\n",
        "        \"F1-Score\": classification_report(y_test, y_pred, output_dict=True)['weighted avg']['f1-score']\n",
        "    })"
      ],
      "metadata": {
        "id": "v1rJJMzIkX33"
      },
      "execution_count": 11,
      "outputs": []
    },
    {
      "cell_type": "code",
      "source": [
        "summary = pd.DataFrame(results)\n",
        "print(\"\\nModel Comparison Summary:\\n\", summary)"
      ],
      "metadata": {
        "colab": {
          "base_uri": "https://localhost:8080/"
        },
        "id": "iwBMnewtkxj8",
        "outputId": "3753c4d1-9d43-4912-86a7-604ecea993ab"
      },
      "execution_count": 12,
      "outputs": [
        {
          "output_type": "stream",
          "name": "stdout",
          "text": [
            "\n",
            "Model Comparison Summary:\n",
            "                  Model   ROC-AUC  F1-Score\n",
            "0  Logistic Regression  0.911418  0.819984\n",
            "1        Decision Tree  1.000000  1.000000\n",
            "2        Random Forest  1.000000  0.996667\n"
          ]
        }
      ]
    }
  ]
}